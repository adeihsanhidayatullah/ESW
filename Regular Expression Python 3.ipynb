{
 "cells": [
  {
   "cell_type": "markdown",
   "metadata": {},
   "source": [
    "# Enthusiastics Statistics Weekend 2017\n",
    "\n",
    "## Intro to Text Processing Using Python\n",
    "#### Module yang akan digunakan adalah re, nltk, "
   ]
  },
  {
   "cell_type": "markdown",
   "metadata": {
    "collapsed": true
   },
   "source": [
    "Author : Ade Ihsan Hidayatullah"
   ]
  },
  {
   "cell_type": "markdown",
   "metadata": {},
   "source": [
    "## What are various methods of Regular Expressions?"
   ]
  },
  {
   "cell_type": "markdown",
   "metadata": {},
   "source": [
    "The ‘re’ package provides multiple methods to perform queries on an input string. Here are the most commonly used methods, I will discuss:\n",
    "\n",
    "- re.match()\n",
    "- re.search()\n",
    "- re.findall()\n",
    "- re.split()\n",
    "- re.sub()\n",
    "- re.compile()\n",
    "\n",
    "Let’s look at them one by one."
   ]
  },
  {
   "cell_type": "markdown",
   "metadata": {},
   "source": [
    "### re.match(pattern, string):\n",
    "\n",
    "This method finds match if it occurs at start of the string. For example, calling match() on the string ‘Stat UII alias Statistika Universitas Islam Indonesia’ and looking for a pattern ‘Stat’ will match. However, if we look for only Statistika, the pattern will not match. Let’s perform it in python now."
   ]
  },
  {
   "cell_type": "code",
   "execution_count": 2,
   "metadata": {},
   "outputs": [
    {
     "name": "stdout",
     "output_type": "stream",
     "text": [
      "<_sre.SRE_Match object; span=(0, 4), match='Stat'>\n"
     ]
    }
   ],
   "source": [
    "import re\n",
    "result = re.match(r'Stat', 'Stat UII alias Statistika Universitas Islam Indonesia')\n",
    "print(result)"
   ]
  },
  {
   "cell_type": "code",
   "execution_count": 3,
   "metadata": {},
   "outputs": [
    {
     "name": "stdout",
     "output_type": "stream",
     "text": [
      "Stat\n"
     ]
    }
   ],
   "source": [
    "result = re.match(r'Stat', 'Stat UII alias Statistika Universitas Islam Indonesia')\n",
    "print(result.group())"
   ]
  },
  {
   "cell_type": "code",
   "execution_count": 4,
   "metadata": {},
   "outputs": [
    {
     "name": "stdout",
     "output_type": "stream",
     "text": [
      "<_sre.SRE_Match object; span=(0, 4), match='Stat'>\n"
     ]
    }
   ],
   "source": [
    "result = re.match(r'Stat', 'Stat UII alias Statistika Universitas Islam Indonesia')\n",
    "print(result)"
   ]
  },
  {
   "cell_type": "code",
   "execution_count": 5,
   "metadata": {},
   "outputs": [
    {
     "name": "stdout",
     "output_type": "stream",
     "text": [
      "(0, 4)\n",
      "0\n",
      "4\n"
     ]
    }
   ],
   "source": [
    "print(result.span())\n",
    "print(result.start())\n",
    "print(result.end())"
   ]
  },
  {
   "cell_type": "markdown",
   "metadata": {},
   "source": [
    "### re.search(pattern, string):\n",
    "\n",
    "It is similar to match() but it doesn’t restrict us to find matches at the beginning of the string only. Unlike previous method, here searching for pattern ‘Analytics’ will return a match."
   ]
  },
  {
   "cell_type": "code",
   "execution_count": 6,
   "metadata": {},
   "outputs": [
    {
     "name": "stdout",
     "output_type": "stream",
     "text": [
      "Statistika\n"
     ]
    }
   ],
   "source": [
    "result = re.search(r'Statistika', 'Stat UII alias Statistika Universitas Islam Indonesia')\n",
    "print (result.group())"
   ]
  },
  {
   "cell_type": "code",
   "execution_count": 7,
   "metadata": {},
   "outputs": [
    {
     "name": "stdout",
     "output_type": "stream",
     "text": [
      "<_sre.SRE_Match object; span=(15, 25), match='Statistika'>\n"
     ]
    }
   ],
   "source": [
    "print (result)"
   ]
  },
  {
   "cell_type": "markdown",
   "metadata": {},
   "source": [
    "### re.findall (pattern, string):\n",
    "\n",
    "It helps to get a list of all matching patterns. It has no constraints of searching from start or end. If we will use method findall to search ‘AV’ in given string it will return both occurrence of AV. While searching a string, I would recommend you to use re.findall() always, it can work like re.search() and re.match() both."
   ]
  },
  {
   "cell_type": "code",
   "execution_count": 11,
   "metadata": {},
   "outputs": [
    {
     "name": "stdout",
     "output_type": "stream",
     "text": [
      "['Stat']\n"
     ]
    }
   ],
   "source": [
    "result = re.findall(r'Stat', 'stat UII alias Statistika Universitas Islam Indonesia')\n",
    "print (result)"
   ]
  },
  {
   "cell_type": "markdown",
   "metadata": {},
   "source": [
    "### re.split(pattern, string, [maxsplit=0]):\n",
    "\n",
    "This methods helps to split string by the occurrences of given pattern."
   ]
  },
  {
   "cell_type": "code",
   "execution_count": 15,
   "metadata": {},
   "outputs": [
    {
     "data": {
      "text/plain": [
       "['Statistika', 'Universitas-Islam-Indonesia']"
      ]
     },
     "execution_count": 15,
     "metadata": {},
     "output_type": "execute_result"
    }
   ],
   "source": [
    "result=re.split(r'[+]','Statistika+Universitas-Islam-Indonesia')\n",
    "result"
   ]
  },
  {
   "cell_type": "code",
   "execution_count": 16,
   "metadata": {},
   "outputs": [
    {
     "data": {
      "text/plain": [
       "['Statistika', 'Universitas-Islam-Indonesia']"
      ]
     },
     "execution_count": 16,
     "metadata": {},
     "output_type": "execute_result"
    }
   ],
   "source": [
    "result=re.split(r'-','Statistika-Universitas-Islam-Indonesia', maxsplit=1 )\n",
    "result"
   ]
  },
  {
   "cell_type": "markdown",
   "metadata": {},
   "source": [
    "### re.sub(pattern, repl, string):\n",
    "\n",
    "It helps to search a pattern and replace with a new sub string. If the pattern is not found, string is returned unchanged."
   ]
  },
  {
   "cell_type": "code",
   "execution_count": 17,
   "metadata": {},
   "outputs": [
    {
     "data": {
      "text/plain": [
       "'Statistika UII bertempat di D.I.Yogyakarta'"
      ]
     },
     "execution_count": 17,
     "metadata": {},
     "output_type": "execute_result"
    }
   ],
   "source": [
    "result=re.sub(r'jogja','D.I.Yogya','Statistika UII bertempat di jogjakarta')\n",
    "result"
   ]
  },
  {
   "cell_type": "markdown",
   "metadata": {},
   "source": [
    "### re.compile(pattern, repl, string):\n",
    "\n",
    "We can combine a regular expression pattern into pattern objects, which can be used for pattern matching. It also helps to search a pattern again without rewriting it."
   ]
  },
  {
   "cell_type": "code",
   "execution_count": 18,
   "metadata": {},
   "outputs": [
    {
     "name": "stdout",
     "output_type": "stream",
     "text": [
      "['Stat', 'Stat']\n",
      "['Stat']\n"
     ]
    }
   ],
   "source": [
    "import re\n",
    "pattern=re.compile('Stat')\n",
    "result=pattern.findall('Stat UII alias Statistika Universitas Islam Indonesia')\n",
    "print (result)\n",
    "result2=pattern.findall('Prodi Statistika UII Jogjakarta Terbaik Dahhh')\n",
    "print (result2)"
   ]
  },
  {
   "cell_type": "markdown",
   "metadata": {},
   "source": [
    "## What are the most commonly used operators?\n",
    "\n",
    "Regular expressions can specify patterns, not just fixed characters. Here are the most commonly used operators that helps to generate an expression to represent required characters in a string or file. It is commonly used in web scrapping and  text mining to extract required information."
   ]
  },
  {
   "cell_type": "markdown",
   "metadata": {
    "slideshow": {
     "slide_type": "notes"
    }
   },
   "source": [
    "### Operators\t\t  Description\n",
    "\n",
    ".\t \t      \t  Matches with any single character except newline ‘\\n’.\n",
    "\n",
    "?\t \t      \t  match 0 or 1 occurrence of the pattern to its left\n",
    "\n",
    "+\t \t      \t  1 or more occurrences of the pattern to its left\n",
    "\n",
    "*\t \t      \t  0 or more occurrences of the pattern to its left\n",
    "\n",
    "\\w\t \t      \t  Matches with a alphanumeric character whereas \\W (upper case W) matches non alphanumeric character.\n",
    "\n",
    "\\d\t  \t      \t  Matches with digits [0-9] and /D (upper case D) matches with non-digits.\n",
    "\n",
    "\\s\t      \t      Matches with a single white space character (space, newline, return, tab, form) and \\S (upper case S) matches \n",
    "\t      \t      any non-white space character.\n",
    "\n",
    "\\b\t \t          boundary between word and non-word and /B is opposite of /b\n",
    "\n",
    "[..]\t \t      Matches any single character in a square bracket and [^..] matches any single character not in square bracket\n",
    "\n",
    "\\\t \t          It is used for special meaning characters like \\. to match a period or \\+ for plus sign.\n",
    "\n",
    "^ and $\t \t      ^ and $ match the start or end of the string respectively\n",
    "\n",
    "{n,m}\t \t      Matches at least n and at most m occurrences of preceding expression if we write it as {,m} then it will \n",
    "\t      \t      return at least any minimum occurrence to max m preceding expression.\n",
    "\n",
    "a| b\t \t      Matches either a or b\n",
    "\n",
    "( )\t\t      \t  Groups regular expressions and returns matched text\n",
    "\n",
    "\\t, \\n, \\r\t      Matches tab, newline, return"
   ]
  },
  {
   "cell_type": "markdown",
   "metadata": {},
   "source": [
    "cek di : http://www.w3ii.com/id/python/python_reg_expressions.html"
   ]
  },
  {
   "cell_type": "markdown",
   "metadata": {},
   "source": [
    "## Some Examples of Regular Expressions\n",
    "\n",
    " \n",
    "\n",
    "### Problem 1: Ambil kata pertama dari kalimat yang diberikan\n",
    "\n",
    "#### Solution-1  Extract each character (using “\\w“)"
   ]
  },
  {
   "cell_type": "code",
   "execution_count": 20,
   "metadata": {},
   "outputs": [
    {
     "name": "stdout",
     "output_type": "stream",
     "text": [
      "['S', 't', 'a', 't', ' ', 'U', 'I', 'I', ' ', 'a', 'l', 'i', 'a', 's', ' ', 'S', 't', 'a', 't', 'i', 's', 't', 'i', 'k', 'a', ' ', 'U', 'n', 'i', 'v', 'e', 'r', 's', 'i', 't', 'a', 's', ' ', 'I', 's', 'l', 'a', 'm', ' ', 'I', 'n', 'd', 'o', 'n', 'e', 's', 'i', 'a']\n"
     ]
    },
    {
     "data": {
      "text/plain": [
       "'Stat UII alias Statistika Universitas Islam Indonesia'"
      ]
     },
     "execution_count": 20,
     "metadata": {},
     "output_type": "execute_result"
    }
   ],
   "source": [
    "import re\n",
    "result=re.findall(r'.','Stat UII alias Statistika Universitas Islam Indonesia')\n",
    "print (result)\n",
    "''.join(result)"
   ]
  },
  {
   "cell_type": "code",
   "execution_count": 21,
   "metadata": {},
   "outputs": [
    {
     "name": "stdout",
     "output_type": "stream",
     "text": [
      "['S', 't', 'a', 't', 'U', 'I', 'I', 'a', 'l', 'i', 'a', 's', 'S', 't', 'a', 't', 'i', 's', 't', 'i', 'k', 'a', 'U', 'n', 'i', 'v', 'e', 'r', 's', 'i', 't', 'a', 's', 'I', 's', 'l', 'a', 'm', 'I', 'n', 'd', 'o', 'n', 'e', 's', 'i', 'a']\n"
     ]
    }
   ],
   "source": [
    "result=re.findall(r'\\w','Stat UII alias Statistika Universitas Islam Indonesia')\n",
    "print (result)"
   ]
  },
  {
   "cell_type": "markdown",
   "metadata": {},
   "source": [
    "#### Solution-2  Extract each word (using “*” or “+“)"
   ]
  },
  {
   "cell_type": "code",
   "execution_count": 22,
   "metadata": {},
   "outputs": [
    {
     "name": "stdout",
     "output_type": "stream",
     "text": [
      "['Stat', '', 'UII', '', 'alias', '', 'Statistika', '', 'Universitas', '', 'Islam', '', 'Indonesia', '']\n"
     ]
    }
   ],
   "source": [
    "result=re.findall(r'\\w*','Stat UII alias Statistika Universitas Islam Indonesia')\n",
    "print (result)"
   ]
  },
  {
   "cell_type": "code",
   "execution_count": 23,
   "metadata": {},
   "outputs": [
    {
     "name": "stdout",
     "output_type": "stream",
     "text": [
      "['Stat', 'UII', 'alias', 'Statistika', 'Universitas', 'Islam', 'Indonesia']\n"
     ]
    }
   ],
   "source": [
    "result=re.findall(r'\\w+','Stat UII alias Statistika Universitas Islam Indonesia')\n",
    "print (result)"
   ]
  },
  {
   "cell_type": "markdown",
   "metadata": {},
   "source": [
    "#### Solution-3 Extract each word (using “^“)"
   ]
  },
  {
   "cell_type": "code",
   "execution_count": 24,
   "metadata": {},
   "outputs": [
    {
     "name": "stdout",
     "output_type": "stream",
     "text": [
      "['Stat']\n"
     ]
    }
   ],
   "source": [
    "result=re.findall(r'^\\w+','Stat UII alias Statistika Universitas Islam Indonesia')\n",
    "print (result)\n",
    "# tanda ^ berarti mengambil yang pertama"
   ]
  },
  {
   "cell_type": "code",
   "execution_count": 25,
   "metadata": {},
   "outputs": [
    {
     "name": "stdout",
     "output_type": "stream",
     "text": [
      "['Indonesia']\n"
     ]
    }
   ],
   "source": [
    "result=re.findall(r'\\w+$','Stat UII alias Statistika Universitas Islam Indonesia')\n",
    "print (result)\n",
    "# tanda $ berarti mengambil yang terakhir"
   ]
  },
  {
   "cell_type": "markdown",
   "metadata": {},
   "source": [
    "### Problem 2: Ambil dua karakter pertama setiap kata\n",
    "\n",
    "#### Solution-1  Extract consecutive two characters of each word, excluding spaces (using “\\w“)"
   ]
  },
  {
   "cell_type": "code",
   "execution_count": 26,
   "metadata": {},
   "outputs": [
    {
     "name": "stdout",
     "output_type": "stream",
     "text": [
      "['St', 'at', 'UI', 'al', 'ia', 'St', 'at', 'is', 'ti', 'ka', 'Un', 'iv', 'er', 'si', 'ta', 'Is', 'la', 'In', 'do', 'ne', 'si']\n"
     ]
    }
   ],
   "source": [
    "result=re.findall(r'\\w\\w','Stat UII alias Statistika Universitas Islam Indonesia')\n",
    "print (result)"
   ]
  },
  {
   "cell_type": "code",
   "execution_count": 31,
   "metadata": {},
   "outputs": [
    {
     "name": "stdout",
     "output_type": "stream",
     "text": [
      "['Sta', 'UII', 'ali', 'Sta', 'Uni', 'Isl', 'Ind']\n"
     ]
    }
   ],
   "source": [
    "result=re.findall(r'\\b\\w\\w.','Stat UII alias Statistika Universitas Islam Indonesia')\n",
    "print (result)"
   ]
  },
  {
   "cell_type": "markdown",
   "metadata": {},
   "source": [
    "### Problem 3: Ambil jenis domain dari email-id yang diberikan\n",
    "\n",
    "To explain it in simple manner, I will again go with a stepwise approach:\n",
    "\n",
    "#### Solution-1  Extract all characters after “@”"
   ]
  },
  {
   "cell_type": "code",
   "execution_count": 32,
   "metadata": {},
   "outputs": [
    {
     "name": "stdout",
     "output_type": "stream",
     "text": [
      "['@gmail', '@test', '@masterstatistik', '@uii']\n"
     ]
    }
   ],
   "source": [
    "result=re.findall(r'@\\w+','ade@gmail.com, xyz@test.in, admin@masterstatistik.com, statistik@uii.ac.id')\n",
    "print (result)"
   ]
  },
  {
   "cell_type": "code",
   "execution_count": 33,
   "metadata": {},
   "outputs": [
    {
     "name": "stdout",
     "output_type": "stream",
     "text": [
      "['@gmail.com', '@test.in', '@masterstatistik.com', '@uii.ac']\n"
     ]
    }
   ],
   "source": [
    "result=re.findall(r'@\\w+.\\w+','ade@gmail.com, xyz@test.in, admin@masterstatistik.com, statistik@uii.ac.id')\n",
    "print (result)"
   ]
  },
  {
   "cell_type": "code",
   "execution_count": null,
   "metadata": {},
   "outputs": [],
   "source": [
    "result=re.findall(r'@\\w+.(\\w+)','ade@gmail.com, xyz@test.in, admin@masterstatistik.com, statistik@uii.ac.id')\n",
    "print (result)"
   ]
  },
  {
   "cell_type": "markdown",
   "metadata": {},
   "source": [
    "### Problem 4: Ambil tanggal dari string yang diberikan\n",
    "\n",
    "Here we will use “\\d” to extract digit.\n",
    "\n",
    "#### Solution:"
   ]
  },
  {
   "cell_type": "code",
   "execution_count": 34,
   "metadata": {},
   "outputs": [
    {
     "name": "stdout",
     "output_type": "stream",
     "text": [
      "['08-07-1945', '11-11-2011', '12-01-2009']\n"
     ]
    }
   ],
   "source": [
    "result=re.findall(r'\\d{2}-\\d{2}-\\d{4}','UII 34-3456 08-07-1945, XYZ 56-4532 11-11-2011, ABC 67-8945 12-01-2009')\n",
    "print (result)"
   ]
  },
  {
   "cell_type": "code",
   "execution_count": 35,
   "metadata": {},
   "outputs": [
    {
     "name": "stdout",
     "output_type": "stream",
     "text": [
      "['3456', '2007', '4532', '2011', '8945', '2009']\n"
     ]
    }
   ],
   "source": [
    "result=re.findall(r'(\\d{4})','Amit 34-3456 12-05-2007, XYZ 56-4532 11-11-2011, ABC 67-8945 12-01-2009')\n",
    "print (result)"
   ]
  },
  {
   "cell_type": "code",
   "execution_count": 36,
   "metadata": {},
   "outputs": [
    {
     "name": "stdout",
     "output_type": "stream",
     "text": [
      "['2007', '2011', '2009']\n"
     ]
    }
   ],
   "source": [
    "aa = 'Amit 34-3456 12-05-2007, XYZ 56-4532 11-11-2011, ABC 67-8945 12-01-2009'\n",
    "result=re.findall(r'\\d{2}-\\d{2}-(\\d{4})',aa)\n",
    "print (result)"
   ]
  },
  {
   "cell_type": "markdown",
   "metadata": {
    "collapsed": true
   },
   "source": [
    "### Problem 5: Ambil semua kata dari string yang dimulai dengan huruf vokal\n",
    "\n",
    "#### Solution-1  Return each words"
   ]
  },
  {
   "cell_type": "code",
   "execution_count": 37,
   "metadata": {},
   "outputs": [
    {
     "name": "stdout",
     "output_type": "stream",
     "text": [
      "['Stat', 'UII', 'alias', 'Statistika', 'Universitas', 'Islam', 'Indonesia']\n"
     ]
    }
   ],
   "source": [
    "result=re.findall(r'\\w+','Stat UII alias Statistika Universitas Islam Indonesia')\n",
    "print (result)"
   ]
  },
  {
   "cell_type": "markdown",
   "metadata": {},
   "source": [
    "#### Solution-2  Return words starts with alphabets (using [ ])"
   ]
  },
  {
   "cell_type": "code",
   "execution_count": 38,
   "metadata": {},
   "outputs": [
    {
     "name": "stdout",
     "output_type": "stream",
     "text": [
      "['at', 'UII', 'alias', 'atistika', 'Universitas', 'am', 'Indonesia']\n"
     ]
    }
   ],
   "source": [
    "result=re.findall(r'[aeiouAEIOU]\\w+','Stat UII alias Statistika Universitas 1slam Indonesia')\n",
    "print (result)\n",
    "# [aeiouAEIOU]\\w+ : ambil kata mulai dari aiueoAIUEO pertama."
   ]
  },
  {
   "cell_type": "markdown",
   "metadata": {},
   "source": [
    "#### Solution- 3"
   ]
  },
  {
   "cell_type": "code",
   "execution_count": 39,
   "metadata": {},
   "outputs": [
    {
     "name": "stdout",
     "output_type": "stream",
     "text": [
      "['UII', 'alias', 'Universitas', 'Islam', 'Indonesia']\n"
     ]
    }
   ],
   "source": [
    "result=re.findall(r'\\b[aeiouAEIOU]\\w+','Stat UII alias Statistika Universitas Islam Indonesia')\n",
    "print (result)\n",
    "# \\b[aeiouAEIOU]\\w+ : kata yang depannya [aiueoAIUEO] dan merupakan "
   ]
  },
  {
   "cell_type": "code",
   "execution_count": 40,
   "metadata": {},
   "outputs": [
    {
     "name": "stdout",
     "output_type": "stream",
     "text": [
      "['Stat', ' UII', ' alias', ' Statistika', ' Universitas', ' Islam', ' Indonesia']\n"
     ]
    }
   ],
   "source": [
    "result=re.findall(r'\\b[^aeiouAEIOU]\\w+','Stat UII alias Statistika Universitas Islam Indonesia')\n",
    "print (result)\n",
    "#tanda ^ berarti kebalikan dari huruf\" setelahnya,\n",
    "# UII ada karena ada spasi didepannya"
   ]
  },
  {
   "cell_type": "code",
   "execution_count": 41,
   "metadata": {},
   "outputs": [
    {
     "name": "stdout",
     "output_type": "stream",
     "text": [
      "['Stat', 'Statistika', '1slam']\n"
     ]
    }
   ],
   "source": [
    "result=re.findall(r'\\b[^aeiouAEIOU ]\\w+','UII Stat alias Statistika Universitas 1slam Indonesia')\n",
    "print (result)\n",
    "#tanda ^ berarti kebalikan dari huruf\" setelahnya yaitu aiueo, AIUEO, dan spasi."
   ]
  },
  {
   "cell_type": "markdown",
   "metadata": {},
   "source": [
    "### Problem 6: Validasi nomor telepon (nomor telepon harus terdiri dari 12 digit) \n",
    "\n",
    "We have a list phone numbers in list “li” and here we will validate phone numbers using regular\n",
    "\n",
    "#### Solution"
   ]
  },
  {
   "cell_type": "code",
   "execution_count": 43,
   "metadata": {},
   "outputs": [
    {
     "name": "stdout",
     "output_type": "stream",
     "text": [
      "Nomor HP anda Salah\n",
      "Nomor HP anda Salah\n",
      "Nomor HP anda Salah\n"
     ]
    }
   ],
   "source": [
    "import re\n",
    "li=['081997123456','999999-99999','999999x999999']\n",
    "for val in li:\n",
    "    if re.match(r'[0-9]{12}',val) and len(val) == 12:\n",
    "        print ('Nomor HP anda Benar')\n",
    "    else:\n",
    "        print ('Nomor HP anda Salah')"
   ]
  },
  {
   "cell_type": "code",
   "execution_count": 44,
   "metadata": {},
   "outputs": [
    {
     "data": {
      "text/plain": [
       "<_sre.SRE_Match object; span=(0, 10), match='0812345678'>"
      ]
     },
     "execution_count": 44,
     "metadata": {},
     "output_type": "execute_result"
    }
   ],
   "source": [
    "re.match(r'[0-9]{10}','0812345678xx')\n",
    "# { } menandakan jumlah digit yang diinginkan"
   ]
  },
  {
   "cell_type": "markdown",
   "metadata": {
    "collapsed": true
   },
   "source": [
    "### Problem 7: Membagi string dengan beberapa pembatas\n",
    "\n",
    "#### Solution"
   ]
  },
  {
   "cell_type": "code",
   "execution_count": 45,
   "metadata": {},
   "outputs": [
    {
     "name": "stdout",
     "output_type": "stream",
     "text": [
      "['esw', 'stat', 'uii', 'jogja', 'keren', 'sekali']\n"
     ]
    }
   ],
   "source": [
    "import re\n",
    "line = 'esw stat;uii,jogja,keren,sekali' # kalimat untuk di multiple delimiters (\";\",\",\",\" \").\n",
    "result= re.split(r'[;,\\s]', line)\n",
    "print (result)"
   ]
  },
  {
   "cell_type": "code",
   "execution_count": 46,
   "metadata": {},
   "outputs": [
    {
     "name": "stdout",
     "output_type": "stream",
     "text": [
      "esw stat uii jogja keren sekali\n"
     ]
    }
   ],
   "source": [
    "import re\n",
    "line = 'esw stat;uii,jogja,keren,sekali'\n",
    "result= re.sub(r'[;,\\s]',' ', line)\n",
    "print (result)"
   ]
  },
  {
   "cell_type": "markdown",
   "metadata": {},
   "source": [
    "### Problem 8: Ambil Informasi dari file HTML\n",
    "\n",
    "I want to extract information from a HTML file (see below sample data). Here we need to extract information available between < td> and < /td> except the first numerical index. I have assumed here that below html code is stored in a string str."
   ]
  },
  {
   "cell_type": "markdown",
   "metadata": {},
   "source": [
    "##### Sample HTML file (str)\n",
    "'''\n",
    "<tr align=\"center\"><td>1</td> <td>Statistika</td> <td>UII</td></tr>\n",
    "<tr align=\"center\"><td>2</td> <td>Muhammad</td> <td>Ali</td></tr>\n",
    "<tr align=\"center\"><td>3</td> <td>Ahmad</td> <td>Dani</td></tr>\n",
    "<tr align=\"center\"><td>4</td> <td>Joko</td> <td>Widodo</td></tr>\n",
    "<tr align=\"center\"><td>5</td> <td>Sule</td> <td>Prikitiew</td></tr>\n",
    "<tr align=\"center\"><td>6</td> <td>Setya</td> <td>Novanto</td></tr>\n",
    "<tr align=\"center\"><td>7</td> <td HTML>Mark</td> <td>Zuckerberg</td></tr>\n",
    "'''\n",
    "#### Solution"
   ]
  },
  {
   "cell_type": "code",
   "execution_count": 47,
   "metadata": {
    "scrolled": true
   },
   "outputs": [
    {
     "name": "stdout",
     "output_type": "stream",
     "text": [
      "[('Statistika', 'UII'), ('Muhammad', 'Ali'), ('Ahmad', 'Dani'), ('Joko', 'Widodo'), ('Sule', 'Prikitiew'), ('Setya', 'Novanto')]\n"
     ]
    }
   ],
   "source": [
    "str = '''\n",
    "<tr align=\"center\"><td>1</td> <td>Statistika</td> <td>UII</td></tr>\n",
    "<tr align=\"center\"><td>2</td> <td>Muhammad</td> <td>Ali</td></tr>\n",
    "<tr align=\"center\"><td>3</td> <td>Ahmad</td> <td>Dani</td></tr>\n",
    "<tr align=\"center\"><td>4</td> <td>Joko</td> <td>Widodo</td></tr>\n",
    "<tr align=\"center\"><td>5</td> <td>Sule</td> <td>Prikitiew</td></tr>\n",
    "<tr align=\"center\"><td>6</td> <td>Setya</td> <td>Novanto</td></tr>\n",
    "<tr align=\"center\"><td>7</td> <td HTML>Mark</td> <td>Zuckerberg</td></tr>\n",
    "'''\n",
    "result=re.findall(r'<td>\\w+</td>\\s<td>(\\w+)</td>\\s<td>(\\w+)</td>',str)\n",
    "print (result)"
   ]
  },
  {
   "cell_type": "code",
   "execution_count": 48,
   "metadata": {
    "collapsed": true
   },
   "outputs": [],
   "source": [
    "import autocorrect"
   ]
  },
  {
   "cell_type": "code",
   "execution_count": 51,
   "metadata": {},
   "outputs": [
    {
     "data": {
      "text/plain": [
       "'alba'"
      ]
     },
     "execution_count": 51,
     "metadata": {},
     "output_type": "execute_result"
    }
   ],
   "source": [
    "autocorrect.spell('alpa')"
   ]
  }
 ],
 "metadata": {
  "kernelspec": {
   "display_name": "Python 3",
   "language": "python",
   "name": "python3"
  },
  "language_info": {
   "codemirror_mode": {
    "name": "ipython",
    "version": 3
   },
   "file_extension": ".py",
   "mimetype": "text/x-python",
   "name": "python",
   "nbconvert_exporter": "python",
   "pygments_lexer": "ipython3",
   "version": "3.6.1"
  }
 },
 "nbformat": 4,
 "nbformat_minor": 2
}
