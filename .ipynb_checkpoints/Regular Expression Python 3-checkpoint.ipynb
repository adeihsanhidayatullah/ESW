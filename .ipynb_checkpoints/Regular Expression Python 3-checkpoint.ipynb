{
 "cells": [
  {
   "cell_type": "markdown",
   "metadata": {},
   "source": [
    "# Enthusiastics Statistics Weekend 2017\n",
    "\n",
    "## Intro to Text Processing Using Python\n",
    "#### Module yang akan digunakan adalah re, nltk, "
   ]
  },
  {
   "cell_type": "markdown",
   "metadata": {
    "collapsed": true
   },
   "source": [
    "Author : Ade Ihsan Hidayatullah"
   ]
  },
  {
   "cell_type": "markdown",
   "metadata": {},
   "source": [
    "## What are various methods of Regular Expressions?"
   ]
  },
  {
   "cell_type": "markdown",
   "metadata": {},
   "source": [
    "The ‘re’ package provides multiple methods to perform queries on an input string. Here are the most commonly used methods, I will discuss:\n",
    "\n",
    "- re.match()\n",
    "- re.search()\n",
    "- re.findall()\n",
    "- re.split()\n",
    "- re.sub()\n",
    "- re.compile()\n",
    "\n",
    "Let’s look at them one by one."
   ]
  },
  {
   "cell_type": "markdown",
   "metadata": {},
   "source": [
    "### re.match(pattern, string):\n",
    "\n",
    "This method finds match if it occurs at start of the string. For example, calling match() on the string ‘Stat UII alias Statistika Universitas Islam Indonesia’ and looking for a pattern ‘Stat’ will match. However, if we look for only Statistika, the pattern will not match. Let’s perform it in python now."
   ]
  },
  {
   "cell_type": "code",
   "execution_count": 1,
   "metadata": {},
   "outputs": [
    {
     "name": "stdout",
     "output_type": "stream",
     "text": [
      "<_sre.SRE_Match object; span=(0, 4), match='Stat'>\n"
     ]
    }
   ],
   "source": [
    "import re\n",
    "result = re.match(r'Stat', 'Stat UII alias Statistika Universitas Islam Indonesia')\n",
    "print(result)"
   ]
  },
  {
   "cell_type": "code",
   "execution_count": 2,
   "metadata": {},
   "outputs": [
    {
     "name": "stdout",
     "output_type": "stream",
     "text": [
      "Stat\n"
     ]
    }
   ],
   "source": [
    "result = re.match(r'Stat', 'Stat UII alias Statistika Universitas Islam Indonesia')\n",
    "print(result.group())"
   ]
  },
  {
   "cell_type": "code",
   "execution_count": 3,
   "metadata": {},
   "outputs": [
    {
     "name": "stdout",
     "output_type": "stream",
     "text": [
      "<_sre.SRE_Match object; span=(0, 4), match='Stat'>\n"
     ]
    }
   ],
   "source": [
    "result = re.match(r'Stat', 'Stat UII alias Statistika Universitas Islam Indonesia')\n",
    "print(result)"
   ]
  },
  {
   "cell_type": "code",
   "execution_count": 4,
   "metadata": {},
   "outputs": [
    {
     "name": "stdout",
     "output_type": "stream",
     "text": [
      "(0, 4)\n",
      "0\n",
      "4\n"
     ]
    }
   ],
   "source": [
    "print(result.span())\n",
    "print(result.start())\n",
    "print(result.end())"
   ]
  },
  {
   "cell_type": "markdown",
   "metadata": {},
   "source": [
    "### re.search(pattern, string):\n",
    "\n",
    "It is similar to match() but it doesn’t restrict us to find matches at the beginning of the string only. Unlike previous method, here searching for pattern ‘Analytics’ will return a match."
   ]
  },
  {
   "cell_type": "code",
   "execution_count": 5,
   "metadata": {},
   "outputs": [
    {
     "name": "stdout",
     "output_type": "stream",
     "text": [
      "Statistika\n"
     ]
    }
   ],
   "source": [
    "result = re.search(r'Statistika', 'Stat UII alias Statistika Universitas Islam Indonesia')\n",
    "print (result.group(0))"
   ]
  },
  {
   "cell_type": "code",
   "execution_count": 6,
   "metadata": {},
   "outputs": [
    {
     "name": "stdout",
     "output_type": "stream",
     "text": [
      "<_sre.SRE_Match object; span=(15, 25), match='Statistika'>\n"
     ]
    }
   ],
   "source": [
    "print (result)"
   ]
  },
  {
   "cell_type": "markdown",
   "metadata": {},
   "source": [
    "### re.findall (pattern, string):\n",
    "\n",
    "It helps to get a list of all matching patterns. It has no constraints of searching from start or end. If we will use method findall to search ‘AV’ in given string it will return both occurrence of AV. While searching a string, I would recommend you to use re.findall() always, it can work like re.search() and re.match() both."
   ]
  },
  {
   "cell_type": "code",
   "execution_count": 7,
   "metadata": {},
   "outputs": [
    {
     "name": "stdout",
     "output_type": "stream",
     "text": [
      "['Stat', 'Stat']\n"
     ]
    }
   ],
   "source": [
    "result = re.findall(r'Stat', 'Stat UII alias Statistika Universitas Islam Indonesia')\n",
    "print (result)"
   ]
  },
  {
   "cell_type": "markdown",
   "metadata": {},
   "source": [
    "### re.split(pattern, string, [maxsplit=0]):\n",
    "\n",
    "This methods helps to split string by the occurrences of given pattern."
   ]
  },
  {
   "cell_type": "code",
   "execution_count": 8,
   "metadata": {},
   "outputs": [
    {
     "data": {
      "text/plain": [
       "['Statistika', 'Universitas', 'Islam', 'Indonesia']"
      ]
     },
     "execution_count": 8,
     "metadata": {},
     "output_type": "execute_result"
    }
   ],
   "source": [
    "result=re.split(r'-','Statistika-Universitas-Islam-Indonesia')\n",
    "result"
   ]
  },
  {
   "cell_type": "code",
   "execution_count": 9,
   "metadata": {},
   "outputs": [
    {
     "data": {
      "text/plain": [
       "['Statistika', 'Universitas-Islam-Indonesia']"
      ]
     },
     "execution_count": 9,
     "metadata": {},
     "output_type": "execute_result"
    }
   ],
   "source": [
    "result=re.split(r'-','Statistika-Universitas-Islam-Indonesia', maxsplit=1 )\n",
    "result"
   ]
  },
  {
   "cell_type": "markdown",
   "metadata": {},
   "source": [
    "### re.sub(pattern, repl, string):\n",
    "\n",
    "It helps to search a pattern and replace with a new sub string. If the pattern is not found, string is returned unchanged."
   ]
  },
  {
   "cell_type": "code",
   "execution_count": 10,
   "metadata": {},
   "outputs": [
    {
     "data": {
      "text/plain": [
       "'Statistika UII bertempat di D.I.Yogyakarta'"
      ]
     },
     "execution_count": 10,
     "metadata": {},
     "output_type": "execute_result"
    }
   ],
   "source": [
    "result=re.sub(r'jogja','D.I.Yogya','Statistika UII bertempat di jogjakarta')\n",
    "result"
   ]
  },
  {
   "cell_type": "markdown",
   "metadata": {},
   "source": [
    "### re.compile(pattern, repl, string):\n",
    "\n",
    "We can combine a regular expression pattern into pattern objects, which can be used for pattern matching. It also helps to search a pattern again without rewriting it."
   ]
  },
  {
   "cell_type": "code",
   "execution_count": 11,
   "metadata": {},
   "outputs": [
    {
     "name": "stdout",
     "output_type": "stream",
     "text": [
      "['Stat', 'Stat']\n",
      "['Stat']\n"
     ]
    }
   ],
   "source": [
    "import re\n",
    "pattern=re.compile('Stat')\n",
    "result=pattern.findall('Stat UII alias Statistika Universitas Islam Indonesia')\n",
    "print (result)\n",
    "result2=pattern.findall('Prodi Statistika UII Jogjakarta Terbaik Dahhh')\n",
    "print (result2)"
   ]
  },
  {
   "cell_type": "markdown",
   "metadata": {},
   "source": [
    "## What are the most commonly used operators?\n",
    "\n",
    "Regular expressions can specify patterns, not just fixed characters. Here are the most commonly used operators that helps to generate an expression to represent required characters in a string or file. It is commonly used in web scrapping and  text mining to extract required information."
   ]
  },
  {
   "cell_type": "markdown",
   "metadata": {
    "slideshow": {
     "slide_type": "notes"
    }
   },
   "source": [
    "### Operators\t\t  Description\n",
    "\n",
    ".\t \t      \t  Matches with any single character except newline ‘\\n’.\n",
    "\n",
    "?\t \t      \t  match 0 or 1 occurrence of the pattern to its left\n",
    "\n",
    "+\t \t      \t  1 or more occurrences of the pattern to its left\n",
    "\n",
    "*\t \t      \t  0 or more occurrences of the pattern to its left\n",
    "\n",
    "\\w\t \t      \t  Matches with a alphanumeric character whereas \\W (upper case W) matches non alphanumeric character.\n",
    "\n",
    "\\d\t  \t      \t  Matches with digits [0-9] and /D (upper case D) matches with non-digits.\n",
    "\n",
    "\\s\t      \t      Matches with a single white space character (space, newline, return, tab, form) and \\S (upper case S) matches \n",
    "\t      \t      any non-white space character.\n",
    "\n",
    "\\b\t \t          boundary between word and non-word and /B is opposite of /b\n",
    "\n",
    "[..]\t \t      Matches any single character in a square bracket and [^..] matches any single character not in square bracket\n",
    "\n",
    "\\\t \t          It is used for special meaning characters like \\. to match a period or \\+ for plus sign.\n",
    "\n",
    "^ and $\t \t      ^ and $ match the start or end of the string respectively\n",
    "\n",
    "{n,m}\t \t      Matches at least n and at most m occurrences of preceding expression if we write it as {,m} then it will \n",
    "\t      \t      return at least any minimum occurrence to max m preceding expression.\n",
    "\n",
    "a| b\t \t      Matches either a or b\n",
    "\n",
    "( )\t\t      \t  Groups regular expressions and returns matched text\n",
    "\n",
    "\\t, \\n, \\r\t      Matches tab, newline, return"
   ]
  },
  {
   "cell_type": "markdown",
   "metadata": {},
   "source": [
    "## Some Examples of Regular Expressions\n",
    "\n",
    " \n",
    "\n",
    "### Problem 1: Return the first word of a given string\n",
    "\n",
    "#### Solution-1  Extract each character (using “\\w“)"
   ]
  },
  {
   "cell_type": "code",
   "execution_count": null,
   "metadata": {},
   "outputs": [],
   "source": [
    "import re\n",
    "result=re.findall(r'.','Stat UII alias Statistika Universitas Islam Indonesia')\n",
    "print (result)"
   ]
  },
  {
   "cell_type": "code",
   "execution_count": null,
   "metadata": {},
   "outputs": [],
   "source": [
    "result=re.findall(r'\\w','Stat UII alias Statistika Universitas Islam Indonesia')\n",
    "print (result)"
   ]
  },
  {
   "cell_type": "markdown",
   "metadata": {},
   "source": [
    "#### Solution-2  Extract each word (using “*” or “+“)"
   ]
  },
  {
   "cell_type": "code",
   "execution_count": null,
   "metadata": {},
   "outputs": [],
   "source": [
    "result=re.findall(r'\\w*','Stat UII alias Statistika Universitas Islam Indonesia')\n",
    "print (result)"
   ]
  },
  {
   "cell_type": "code",
   "execution_count": null,
   "metadata": {},
   "outputs": [],
   "source": [
    "result=re.findall(r'\\w+','Stat UII alias Statistika Universitas Islam Indonesia')\n",
    "print (result)"
   ]
  },
  {
   "cell_type": "markdown",
   "metadata": {},
   "source": [
    "#### Solution-3 Extract each word (using “^“)"
   ]
  },
  {
   "cell_type": "code",
   "execution_count": null,
   "metadata": {},
   "outputs": [],
   "source": [
    "result=re.findall(r'^\\w+','Stat UII alias Statistika Universitas Islam Indonesia')\n",
    "print (result)"
   ]
  },
  {
   "cell_type": "code",
   "execution_count": null,
   "metadata": {},
   "outputs": [],
   "source": [
    "result=re.findall(r'\\w+$','Stat UII alias Statistika Universitas Islam Indonesia')\n",
    "print (result)"
   ]
  },
  {
   "cell_type": "markdown",
   "metadata": {},
   "source": [
    "### Problem 2: Return the first two character of each word\n",
    "\n",
    "#### Solution-1  Extract consecutive two characters of each word, excluding spaces (using “\\w“)"
   ]
  },
  {
   "cell_type": "code",
   "execution_count": null,
   "metadata": {},
   "outputs": [],
   "source": [
    "result=re.findall(r'\\w\\w','Stat UII alias Statistika Universitas Islam Indonesia')\n",
    "print (result)"
   ]
  },
  {
   "cell_type": "code",
   "execution_count": null,
   "metadata": {},
   "outputs": [],
   "source": [
    "result=re.findall(r'\\b\\w\\w.','Stat UII alias Statistika Universitas Islam Indonesia')\n",
    "print (result)"
   ]
  },
  {
   "cell_type": "markdown",
   "metadata": {},
   "source": [
    "### Problem 3: Return the domain type of given email-ids\n",
    "\n",
    "To explain it in simple manner, I will again go with a stepwise approach:\n",
    "\n",
    "#### Solution-1  Extract all characters after “@”"
   ]
  },
  {
   "cell_type": "code",
   "execution_count": null,
   "metadata": {},
   "outputs": [],
   "source": [
    "result=re.findall(r'@\\w+','ade@gmail.com, xyz@test.in, admin@masterstatistik.com, statistik@uii.ac.id')\n",
    "print (result)"
   ]
  },
  {
   "cell_type": "code",
   "execution_count": null,
   "metadata": {},
   "outputs": [],
   "source": [
    "result=re.findall(r'@\\w+.\\w+','ade@gmail.com, xyz@test.in, admin@masterstatistik.com, statistik@uii.ac.id')\n",
    "print (result)"
   ]
  },
  {
   "cell_type": "code",
   "execution_count": null,
   "metadata": {},
   "outputs": [],
   "source": [
    "result=re.findall(r'@\\w+.(\\w+)','ade@gmail.com, xyz@test.in, admin@masterstatistik.com, statistik@uii.ac.id')\n",
    "print (result)"
   ]
  },
  {
   "cell_type": "markdown",
   "metadata": {},
   "source": [
    "### Problem 4: Return date from given string\n",
    "\n",
    "Here we will use “\\d” to extract digit.\n",
    "\n",
    "#### Solution:"
   ]
  },
  {
   "cell_type": "code",
   "execution_count": null,
   "metadata": {},
   "outputs": [],
   "source": [
    "result=re.findall(r'\\d{2}-\\d{2}-\\d{4}','UII 34-3456 08-07-1945, XYZ 56-4532 11-11-2011, ABC 67-8945 12-01-2009')\n",
    "print (result)"
   ]
  },
  {
   "cell_type": "code",
   "execution_count": null,
   "metadata": {},
   "outputs": [],
   "source": [
    "result=re.findall(r'(\\d{4})','Amit 34-3456 12-05-2007, XYZ 56-4532 11-11-2011, ABC 67-8945 12-01-2009')\n",
    "print (result)"
   ]
  },
  {
   "cell_type": "code",
   "execution_count": null,
   "metadata": {},
   "outputs": [],
   "source": [
    "result=re.findall(r'\\d{2}-\\d{2}-(\\d{4})','Amit 34-3456 12-05-2007, XYZ 56-4532 11-11-2011, ABC 67-8945 12-01-2009')\n",
    "print (result)"
   ]
  },
  {
   "cell_type": "markdown",
   "metadata": {
    "collapsed": true
   },
   "source": [
    "### Problem 5: Return all words of a string those starts with vowel\n",
    "\n",
    "#### Solution-1  Return each words"
   ]
  },
  {
   "cell_type": "code",
   "execution_count": null,
   "metadata": {},
   "outputs": [],
   "source": [
    "result=re.findall(r'\\w+','Stat UII alias Statistika Universitas Islam Indonesia')\n",
    "print (result)"
   ]
  },
  {
   "cell_type": "markdown",
   "metadata": {},
   "source": [
    "#### Solution-2  Return words starts with alphabets (using [ ])"
   ]
  },
  {
   "cell_type": "code",
   "execution_count": null,
   "metadata": {},
   "outputs": [],
   "source": [
    "result=re.findall(r'[aeiouAEIOU]\\w+','Stat UII alias Statistika Universitas 1slam Indonesia')\n",
    "print (result)\n",
    "# [aeiouAEIOU]\\w+ : ambil kata mulai dari aiueoAIUEO pertama."
   ]
  },
  {
   "cell_type": "markdown",
   "metadata": {},
   "source": [
    "#### Solution- 3"
   ]
  },
  {
   "cell_type": "code",
   "execution_count": null,
   "metadata": {},
   "outputs": [],
   "source": [
    "result=re.findall(r'\\b[aeiouAEIOU]\\w+','Stat UII alias Statistika Universitas Islam Indonesia')\n",
    "print (result)\n",
    "# \\b[aeiouAEIOU]\\w+ : kata yang depannya [aiueoAIUEO] dan merupakan "
   ]
  },
  {
   "cell_type": "code",
   "execution_count": null,
   "metadata": {},
   "outputs": [],
   "source": [
    "result=re.findall(r'\\b[^aeiouAEIOU]\\w+','Stat UII alias Statistika Universitas Islam Indonesia')\n",
    "print (result)\n",
    "#tanda ^ berarti kebalikan dari huruf\" setelahnya,\n",
    "# UII ada karena ada spasi didepannya"
   ]
  },
  {
   "cell_type": "code",
   "execution_count": null,
   "metadata": {},
   "outputs": [],
   "source": [
    "result=re.findall(r'\\b[^aeiouAEIOU ]\\w+','UII Stat alias Statistika Universitas 1slam Indonesia')\n",
    "print (result)\n",
    "#tanda ^ berarti kebalikan dari huruf\" setelahnya yaitu aiueo, AIUEO, dan spasi."
   ]
  },
  {
   "cell_type": "markdown",
   "metadata": {},
   "source": [
    "### Problem 6: Validate a phone number (phone number must be of 10 digits and starts with 8 or 9) \n",
    "\n",
    "We have a list phone numbers in list “li” and here we will validate phone numbers using regular\n",
    "\n",
    "#### Solution"
   ]
  },
  {
   "cell_type": "code",
   "execution_count": null,
   "metadata": {},
   "outputs": [],
   "source": [
    "import re\n",
    "li=['081997612458','999999-99999','999999x999999']\n",
    "for val in li:\n",
    "    if re.match(r'[0-9]{12}',val) and len(val) == 12:\n",
    "        print ('Nomor HP anda Benar')\n",
    "    else:\n",
    "        print ('Nomor HP anda Salah')"
   ]
  },
  {
   "cell_type": "code",
   "execution_count": null,
   "metadata": {},
   "outputs": [],
   "source": [
    "re.match(r'[0-9]{10}','0819976124xx')\n",
    "# { } menandakan jumlah digit yang diinginkan"
   ]
  },
  {
   "cell_type": "markdown",
   "metadata": {
    "collapsed": true
   },
   "source": [
    "### Problem 7: Split a string with multiple delimiters\n",
    "\n",
    "#### Solution"
   ]
  },
  {
   "cell_type": "code",
   "execution_count": null,
   "metadata": {},
   "outputs": [],
   "source": [
    "import re\n",
    "line = 'esw stat;uii,jogja,keren,sekali' # kalimat untuk di multiple delimiters (\";\",\",\",\" \").\n",
    "result= re.split(r'[;,\\s]', line)\n",
    "print (result)"
   ]
  },
  {
   "cell_type": "code",
   "execution_count": null,
   "metadata": {},
   "outputs": [],
   "source": [
    "import re\n",
    "line = 'esw stat;uii,jogja,keren,sekali'\n",
    "result= re.sub(r'[;,\\s]',' ', line)\n",
    "print (result)"
   ]
  },
  {
   "cell_type": "markdown",
   "metadata": {},
   "source": [
    "### Problem 8: Retrieve Information from HTML file\n",
    "\n",
    "I want to extract information from a HTML file (see below sample data). Here we need to extract information available between < td> and < /td> except the first numerical index. I have assumed here that below html code is stored in a string str."
   ]
  },
  {
   "cell_type": "markdown",
   "metadata": {},
   "source": [
    "##### Sample HTML file (str)\n",
    "\n",
    "< tr align=\"center\">< td>1< /td> < td>Noah< /td> < td>Emma< /td>< /tr> <br>\n",
    "< tr align=\"center\">< td>2< /td> < td>Liam< /td> < td>Olivia< /td>< /tr> <br>\n",
    "< tr align=\"center\">< td>3< /td> < td>Mason< /td> < td>Sophia< /td>< /tr> <br>\n",
    "< tr align=\"center\">< td>4< /td> < td>Jacob< /td> < td>Isabella< /td>< /tr> <br>\n",
    "< tr align=\"center\">< td>5< /td> < td>William< /td> < td>Ava< /td>< /tr> <br>\n",
    "< tr align=\"center\">< td>6< /td> < td>Ethan< /td> < td>Mia< /td>< /tr> <br>\n",
    "< tr align=\"center\">< td>7< /td> < td HTML>Michael< /td> < td>Emily< /td>< /tr> <br>\n",
    "\n",
    "#### Solution"
   ]
  },
  {
   "cell_type": "code",
   "execution_count": null,
   "metadata": {},
   "outputs": [],
   "source": [
    "str = '''\n",
    "<tr align=\"center\"><td>1</td> <td>Noah</td> <td>Emma</td></tr>\n",
    "<tr align=\"center\"><td>2</td> <td>Liam</td> <td>Olivia</td></tr>\n",
    "<tr align=\"center\"><td>3</td> <td>Mason</td> <td>Sophia</td></tr>\n",
    "<tr align=\"center\"><td>4</td> <td>Jacob</td> <td>Isabella</td></tr>\n",
    "<tr align=\"center\"><td>5</td> <td>William</td> <td>Ava</td></tr>\n",
    "<tr align=\"center\"><td>6</td> <td>Ethan</td> <td>Mia</td></tr>\n",
    "<tr align=\"center\"><td>7</td> <td HTML>Michael</td> <td>Emily</td></tr>\n",
    "'''\n",
    "result=re.findall(r'<td>\\w+</td>\\s<td>(\\w+)</td>\\s<td>(\\w+)</td>',str)\n",
    "print (result)"
   ]
  },
  {
   "cell_type": "code",
   "execution_count": null,
   "metadata": {
    "collapsed": true
   },
   "outputs": [],
   "source": [
    "import autocorrect"
   ]
  },
  {
   "cell_type": "code",
   "execution_count": null,
   "metadata": {},
   "outputs": [],
   "source": [
    "autocorrect.spell('conect')"
   ]
  }
 ],
 "metadata": {
  "kernelspec": {
   "display_name": "Python 3",
   "language": "python",
   "name": "python3"
  },
  "language_info": {
   "codemirror_mode": {
    "name": "ipython",
    "version": 3
   },
   "file_extension": ".py",
   "mimetype": "text/x-python",
   "name": "python",
   "nbconvert_exporter": "python",
   "pygments_lexer": "ipython3",
   "version": "3.6.1"
  }
 },
 "nbformat": 4,
 "nbformat_minor": 2
}
